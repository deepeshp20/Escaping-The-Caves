{
  "cells": [
    {
      "cell_type": "code",
      "execution_count": 1,
      "metadata": {
        "colab": {
          "base_uri": "https://localhost:8080/"
        },
        "id": "t8Hu-oZNlPUb",
        "outputId": "7c3e9b2d-017e-40cb-c26a-2696c8d04b08"
      },
      "outputs": [
        {
          "output_type": "stream",
          "name": "stdout",
          "text": [
            "Looking in indexes: https://pypi.org/simple, https://us-python.pkg.dev/colab-wheels/public/simple/\n",
            "Collecting pyfinite\n",
            "  Downloading pyfinite-1.9.1.tar.gz (27 kB)\n",
            "  Preparing metadata (setup.py) ... \u001b[?25l\u001b[?25hdone\n",
            "Collecting msgpack-python\n",
            "  Downloading msgpack-python-0.5.6.tar.gz (138 kB)\n",
            "\u001b[2K     \u001b[90m━━━━━━━━━━━━━━━━━━━━━━━━━━━━━━━━━━━━━━━\u001b[0m \u001b[32m139.0/139.0 KB\u001b[0m \u001b[31m4.9 MB/s\u001b[0m eta \u001b[36m0:00:00\u001b[0m\n",
            "\u001b[?25h  Preparing metadata (setup.py) ... \u001b[?25l\u001b[?25hdone\n",
            "Building wheels for collected packages: pyfinite, msgpack-python\n",
            "  Building wheel for pyfinite (setup.py) ... \u001b[?25l\u001b[?25hdone\n",
            "  Created wheel for pyfinite: filename=pyfinite-1.9.1-py3-none-any.whl size=30402 sha256=f0261944511813deb63bfbdf74af98c78c358086f5801021f1d0ba553970666c\n",
            "  Stored in directory: /root/.cache/pip/wheels/c5/18/c0/7e6606d7a4c57ebc83f5940e2bc73e66deaf90eb3f65783eac\n",
            "  Building wheel for msgpack-python (setup.py) ... \u001b[?25l\u001b[?25hdone\n",
            "  Created wheel for msgpack-python: filename=msgpack_python-0.5.6-cp39-cp39-linux_x86_64.whl size=216943 sha256=290ba0b153d5a0cc4faf26e5737721ecf26958a84e32917a350f804acbd430c8\n",
            "  Stored in directory: /root/.cache/pip/wheels/8f/ce/bc/08b302b5ab90315dc9fc538c2d29b5d04087ce5be3e804d834\n",
            "Successfully built pyfinite msgpack-python\n",
            "Installing collected packages: msgpack-python, pyfinite\n",
            "Successfully installed msgpack-python-0.5.6 pyfinite-1.9.1\n"
          ]
        }
      ],
      "source": [
        "!pip3 install pyfinite"
      ]
    },
    {
      "cell_type": "code",
      "execution_count": 2,
      "metadata": {
        "colab": {
          "base_uri": "https://localhost:8080/"
        },
        "id": "Hf-QVfpxN3-4",
        "outputId": "6e07d142-3d8d-403b-c96a-854f57ca6200"
      },
      "outputs": [
        {
          "output_type": "stream",
          "name": "stdout",
          "text": [
            "Looking in indexes: https://pypi.org/simple, https://us-python.pkg.dev/colab-wheels/public/simple/\n",
            "Collecting galois\n",
            "  Downloading galois-0.3.3-py3-none-any.whl (4.2 MB)\n",
            "\u001b[2K     \u001b[90m━━━━━━━━━━━━━━━━━━━━━━━━━━━━━━━━━━━━━━━━\u001b[0m \u001b[32m4.2/4.2 MB\u001b[0m \u001b[31m28.3 MB/s\u001b[0m eta \u001b[36m0:00:00\u001b[0m\n",
            "\u001b[?25hRequirement already satisfied: typing-extensions>=4.0.0 in /usr/local/lib/python3.9/dist-packages (from galois) (4.5.0)\n",
            "Requirement already satisfied: numpy<1.24,>=1.21.0 in /usr/local/lib/python3.9/dist-packages (from galois) (1.22.4)\n",
            "Requirement already satisfied: numba<0.57,>=0.55 in /usr/local/lib/python3.9/dist-packages (from galois) (0.56.4)\n",
            "Requirement already satisfied: setuptools in /usr/local/lib/python3.9/dist-packages (from numba<0.57,>=0.55->galois) (67.6.1)\n",
            "Requirement already satisfied: llvmlite<0.40,>=0.39.0dev0 in /usr/local/lib/python3.9/dist-packages (from numba<0.57,>=0.55->galois) (0.39.1)\n",
            "Installing collected packages: galois\n",
            "Successfully installed galois-0.3.3\n"
          ]
        }
      ],
      "source": [
        "!pip3 install galois"
      ]
    },
    {
      "cell_type": "code",
      "execution_count": 4,
      "metadata": {
        "id": "03l4s6wnNzt_"
      },
      "outputs": [],
      "source": [
        "import numpy as np\n",
        "from pyfinite import ffield\n",
        "import galois\n",
        "\n",
        "F = ffield.FField(7, gen=0x83, useLUT=-1)\n",
        "\n",
        "def Exponentiate(base,power):\n",
        "    ans = base\n",
        "    for i in range(1,power):\n",
        "        ans = F.Multiply(ans,base)\n",
        "    return ans\n",
        "\n",
        "\n",
        "def LinearTransform(linmat,msg):\n",
        "    ans = [0]*8\n",
        "    for i in range(8):\n",
        "        temp  = []\n",
        "        mul = [F.Multiply(linmat[i][j],msg[i]) for j in range(8)]\n",
        "        for k in range(8):\n",
        "            temp.append(np.bitwise_xor(ans[k],mul[k]))\n",
        "        ans = temp\n",
        "    return ans"
      ]
    },
    {
      "cell_type": "code",
      "execution_count": 5,
      "metadata": {
        "id": "8bi7k6fhlTBS"
      },
      "outputs": [],
      "source": [
        "def decode_block(cipher):\n",
        "  plain= \"\"\n",
        "  for i in range(0,len(cipher),2):\n",
        "      plain+=chr(16*(ord(cipher[i:i+2][0]) - ord('f')) + ord(cipher[i:i+2][1]) - ord('f'))\n",
        "  return plain"
      ]
    },
    {
      "cell_type": "code",
      "execution_count": 6,
      "metadata": {
        "colab": {
          "base_uri": "https://localhost:8080/"
        },
        "id": "K6Q4m1V6M9VO",
        "outputId": "b4dd6c06-c25f-4e55-c664-fbe170beb529"
      },
      "outputs": [
        {
          "output_type": "stream",
          "name": "stdout",
          "text": [
            "Possible diagonal values: \n",
            "\n",
            "[[[84, 87, 7], [], [], [], [], [], [], []], [[], [77, 70], [], [], [], [], [], []], [[], [], [108, 43, 86], [], [], [], [], []], [[], [], [], [124, 12, 88], [], [], [], []], [[], [], [], [], [28, 112, 62], [], [], []], [[], [], [], [], [], [17, 110, 11], [], []], [[], [], [], [], [], [], [123, 27, 63], []], [[], [], [], [], [], [], [], [38, 11, 58]]]\n",
            "\n",
            "\n",
            "Possible exponents: \n",
            "\n",
            "[[23, 48, 56], [20, 108], [29, 43, 55], [51, 80, 123], [58, 86, 110], [29, 43, 55], [18, 21, 88], [29, 43, 55]]\n",
            "\n",
            "\n",
            "===========================\n",
            "\n",
            "\n",
            "Diagonal values: \n",
            "\n",
            "[[[84], [119], [], [], [], [], [], []], [[], [70], [27], [], [], [], [], []], [[], [], [43], [31], [], [], [], []], [[], [], [], [12], [123], [], [], []], [[], [], [], [], [112], [98], [], []], [[], [], [], [], [], [11], [82], []], [[], [], [], [], [], [], [27], [6]], [[], [], [], [], [], [], [], [38]]]\n",
            "\n",
            "\n",
            "Exponents: \n",
            "\n",
            "[[23], [108], [43], [80], [86], [55], [21], [29]]\n"
          ]
        }
      ],
      "source": [
        "#for diagonal elements\n",
        "PossibleExponents = [[] for i in range(8)]   \n",
        "possibleDiagonalVals=[[[] for i in range(8)] for j in range(8)]\n",
        "input_file = open('/content/plaintexts.txt','r')\n",
        "output_file = open('/content/cipher_clean.txt','r')\n",
        "input = (input_file.readlines()[0]).strip().split(' ')\n",
        "output = output_file.readlines()\n",
        "\n",
        "input_string = []\n",
        "for msg in input:\n",
        "    input_string.append(decode_block(msg)[0])\n",
        "#print(input_string)\n",
        "#print(len(output))\n",
        "output_string = []\n",
        "for i in range(len(output)):\n",
        "    x = []\n",
        "    for msg in output[i].strip().split(' '):\n",
        "        x.append(decode_block(msg)[i])\n",
        "    output_string.append(x)\n",
        "#print(output_string)\n",
        "for k in range(8):\n",
        "    for i in range(1, 127):\n",
        "        for j in range(1, 128):\n",
        "          flag = True\n",
        "          for m in range(128):\n",
        "            if(ord(output_string[k][m]) != Exponentiate(F.Multiply(Exponentiate(F.Multiply(Exponentiate(ord(input_string[m]), i), j), i), j), i)):\n",
        "              flag = False\n",
        "              break\n",
        "          if(flag):\n",
        "            PossibleExponents[k].append(i)\n",
        "            possibleDiagonalVals[k][k].append(j)\n",
        "print(\"Possible diagonal values: \\n\")\n",
        "print(possibleDiagonalVals)\n",
        "print(\"\\n\\nPossible exponents: \\n\")\n",
        "print(PossibleExponents)\n",
        "\n",
        "\n",
        "output_string = []\n",
        "for i in range(len(output)-1):\n",
        "    x = []\n",
        "    for msg in output[i].strip().split(' '):\n",
        "        x.append(decode_block(msg)[i+1])\n",
        "    output_string.append(x)\n",
        "\n",
        "for ind in range(7):\n",
        "  for i in range(1, 128):\n",
        "      for p1, e1 in zip(PossibleExponents[ind+1], possibleDiagonalVals[ind+1][ind+1]):\n",
        "          for p2, e2 in zip(PossibleExponents[ind], possibleDiagonalVals[ind][ind]):\n",
        "              for k in range(128):\n",
        "                  flag = True\n",
        "                  x1 = F.Multiply(Exponentiate(F.Multiply(Exponentiate(ord(input_string[k]), p2), e2), p2), i)\n",
        "                  x2 = F.Multiply(Exponentiate(F.Multiply(Exponentiate(ord(input_string[k]), p2), i), p1), e1)\n",
        "                  c1 = np.bitwise_xor(x1,x2)\n",
        "                  if(ord(output_string[ind][k]) != Exponentiate(c1,p1)):\n",
        "                      flag = False\n",
        "                      break\n",
        "              if flag:\n",
        "                  PossibleExponents[ind+1] = [p1]\n",
        "                  possibleDiagonalVals[ind+1][ind+1] = [e1]\n",
        "                  PossibleExponents[ind] = [p2]\n",
        "                  possibleDiagonalVals[ind][ind] = [e2]\n",
        "                  possibleDiagonalVals[ind][ind+1] = [i]\n",
        "print('\\n\\n===========================\\n\\n')\n",
        "print(\"Diagonal values: \\n\")\n",
        "print(possibleDiagonalVals)\n",
        "print(\"\\n\\nExponents: \\n\")\n",
        "print(PossibleExponents)"
      ]
    },
    {
      "cell_type": "code",
      "execution_count": null,
      "metadata": {
        "id": "4I5F5pa2Noj5"
      },
      "outputs": [],
      "source": []
    },
    {
      "cell_type": "code",
      "execution_count": 7,
      "metadata": {
        "colab": {
          "base_uri": "https://localhost:8080/"
        },
        "id": "PUPFc7hsM9aI",
        "outputId": "af0034b0-5283-487a-a016-47db3c58b460"
      },
      "outputs": [
        {
          "output_type": "stream",
          "name": "stdout",
          "text": [
            "Linear Transformation Matrix :\n",
            " [[ 84   0   0   0   0   0   0   0]\n",
            " [119  70   0   0   0   0   0   0]\n",
            " [ 20  27  43   0   0   0   0   0]\n",
            " [125  26  31  12   0   0   0   0]\n",
            " [ 96  57   7 123 112   0   0   0]\n",
            " [ 31  42  25  51  98  11   0   0]\n",
            " [ 23 124  14  98   2  82  27   0]\n",
            " [ 95  12  77  29  25  68   6  38]]\n",
            "\n",
            "\n",
            "\n",
            "Exponent Vector : \n",
            " [23, 108, 43, 80, 86, 55, 21, 29]\n"
          ]
        }
      ],
      "source": [
        "def EAEAE (msg, lin_mat, exp_mat):\n",
        "  msg = [ord(m) for m in msg]\n",
        "  res = [Exponentiate(msg[i], exp_mat[i]) for i in range(8)]\n",
        "  res = LinearTransform(lin_mat, res)\n",
        "  res = [Exponentiate(res[i], exp_mat[i]) for i in range(8)]\n",
        "  res = LinearTransform(lin_mat, res)\n",
        "  res = [Exponentiate(res[i], exp_mat[i]) for i in range(8)]\n",
        "  return res\n",
        "\n",
        "\n",
        "input_file = open('/content/plaintexts.txt','r')\n",
        "output_file = open('/content/cipher_clean.txt','r')\n",
        "input = input_file.readlines()\n",
        "output = output_file.readlines()\n",
        "\n",
        "\n",
        "input_string = []\n",
        "for i in range(len(input)):\n",
        "    x = []\n",
        "    for msg in input[i].strip().split(' '):\n",
        "        x.append(decode_block(msg))\n",
        "    input_string.append(x)\n",
        "\n",
        "\n",
        "output_string = []\n",
        "for i in range(len(output)):\n",
        "    x = []\n",
        "    for msg in output[i].strip().split(' '):\n",
        "        x.append(decode_block(msg))\n",
        "    output_string.append(x)\n",
        "\n",
        "for indexex in range(0,6):\n",
        "    offset = indexex + 2\n",
        "    \n",
        "    exp_list = [e[0] for e in PossibleExponents]\n",
        "    lin_trans_list = np.zeros((8,8),int)\n",
        "\n",
        "    for i in range(8):\n",
        "      for j in range(8):     \n",
        "        if(len(possibleDiagonalVals[i][j]) != 0):\n",
        "            lin_trans_list[i][j] = possibleDiagonalVals[i][j][0]\n",
        "        else:\n",
        "            lin_trans_list[i][j] = 0\n",
        "    \n",
        "    for index in range(8):\n",
        "        if(index > (7-offset)):\n",
        "            continue\n",
        "\n",
        "        for i in range(127):\n",
        "            lin_trans_list[index][index+offset] = i+1\n",
        "            flag = True\n",
        "            for inps, outs in zip(input_string[index], output_string[index]):\n",
        "                x1 = EAEAE(inps, lin_trans_list, exp_list)[index+offset]\n",
        "                x2 = outs[index+offset]\n",
        "                if x1 != ord(x2):\n",
        "                    flag = False\n",
        "                    break\n",
        "            if flag==True:\n",
        "                possibleDiagonalVals[index][index+offset] = [i+1]\n",
        "                \n",
        "A = np.zeros((8,8),dtype='int')\n",
        "\n",
        "for i in range(0,8):\n",
        "    for j in range(0,8):\n",
        "      if len(possibleDiagonalVals[j][i]) != 0:\n",
        "       A[i][j] = possibleDiagonalVals[j][i][0]\n",
        "\n",
        "\n",
        "\n",
        "E = exp_list\n",
        "\n",
        "print('Linear Transformation Matrix :\\n',A)\n",
        "print('\\n\\n')\n",
        "print('Exponent Vector : \\n',E)"
      ]
    },
    {
      "cell_type": "code",
      "execution_count": 8,
      "metadata": {
        "id": "Xll2R4_0M9cg"
      },
      "outputs": [],
      "source": [
        "Einverse = np.zeros((128, 128), dtype = int)\n",
        "\n",
        "for base in range(0,128):\n",
        "    temp = 1\n",
        "    for power in range(1,127):\n",
        "        result = F.Multiply(temp, base)\n",
        "        Einverse[power][result] = base\n",
        "        temp = result\n",
        "    \n",
        "GF = galois.GF(2**7)\n",
        "A = GF(A)\n",
        "invA = np.linalg.inv(A)"
      ]
    },
    {
      "cell_type": "code",
      "execution_count": 10,
      "metadata": {
        "colab": {
          "base_uri": "https://localhost:8080/"
        },
        "id": "CUTWo8J-M9em",
        "outputId": "331a6b66-c55b-4666-fd3f-89e26f7ce2c2"
      },
      "outputs": [
        {
          "output_type": "stream",
          "name": "stdout",
          "text": [
            "Password is wmtvxbnzhz000000\n"
          ]
        }
      ],
      "source": [
        "password = \"mshsmqmomsjsfokmmnjtjsgukqikhriq\" #Encrypted password\n",
        "GF = galois.GF(2**7)\n",
        "\n",
        "def Einv(block, E):\n",
        "    return [Einverse[E[i]][block[i]] for i in range(8) ]\n",
        "\n",
        "def Ainv(block, A):\n",
        "    block = GF(block)\n",
        "    A = GF(A)\n",
        "    return np.matmul(A,block)\n",
        "\n",
        "decrypted_password = \"\"\n",
        "for i in range(0,2): \n",
        "    elements = password[16*i:16*(i+1)]\n",
        "    currentBlock = []\n",
        "    for j in range(0,15,2):\n",
        "        currentBlock+=[(ord(elements[j]) - ord('f'))*16 + (ord(elements[j+1]) - ord('f'))]\n",
        "    EAEAE = Einv(Ainv(Einv(Ainv(Einv(currentBlock, E), invA),E), invA),E)\n",
        "    for ch in EAEAE:\n",
        "        decrypted_password += chr(ch)\n",
        "    \n",
        "print(\"Password is\",decrypted_password)"
      ]
    },
    {
      "cell_type": "code",
      "execution_count": null,
      "metadata": {
        "id": "cF5rutn-M9g5"
      },
      "outputs": [],
      "source": []
    },
    {
      "cell_type": "code",
      "execution_count": null,
      "metadata": {
        "id": "7atoFk9wM9kt"
      },
      "outputs": [],
      "source": []
    },
    {
      "cell_type": "code",
      "execution_count": null,
      "metadata": {
        "id": "bfuMQ_kyM9op"
      },
      "outputs": [],
      "source": []
    }
  ],
  "metadata": {
    "colab": {
      "provenance": []
    },
    "kernelspec": {
      "display_name": "Python 3 (ipykernel)",
      "language": "python",
      "name": "python3"
    },
    "language_info": {
      "codemirror_mode": {
        "name": "ipython",
        "version": 3
      },
      "file_extension": ".py",
      "mimetype": "text/x-python",
      "name": "python",
      "nbconvert_exporter": "python",
      "pygments_lexer": "ipython3",
      "version": "3.11.2"
    }
  },
  "nbformat": 4,
  "nbformat_minor": 0
}