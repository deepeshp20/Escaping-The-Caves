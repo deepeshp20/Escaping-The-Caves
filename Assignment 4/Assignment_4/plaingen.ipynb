{
 "cells": [
  {
   "cell_type": "code",
   "execution_count": 1,
   "id": "fd19f6b4",
   "metadata": {
    "ExecuteTime": {
     "end_time": "2022-03-08T18:57:52.942677Z",
     "start_time": "2022-03-08T18:57:52.562079Z"
    }
   },
   "outputs": [],
   "source": [
    "import numpy as np\n",
    "import random\n",
    "\n",
    "hex2char = {\n",
    " '0000': 'd',\n",
    " '0001': 'e',\n",
    " '0010': 'f',\n",
    " '0011': 'g',\n",
    " '0100': 'h',\n",
    " '0101': 'i',\n",
    " '0110': 'j',\n",
    " '0111': 'k',\n",
    " '1000': 'l',\n",
    " '1001': 'm',\n",
    " '1010': 'n',\n",
    " '1011': 'o',\n",
    " '1100': 'p',\n",
    " '1101': 'q',\n",
    " '1110': 'r',\n",
    " '1111': 's'\n",
    "}\n",
    "\n",
    "char2hex = {x:y for y,x in hex2char.items()}\n",
    "\n",
    "# XOR value between pairs of plaintexts is 00 20 00 08 00 00 04 00\n",
    "XOR_value = list((bin(0x0020000800000400))[2:].zfill(64))\n",
    "XOR_value = [int(x) for x in XOR_value]\n",
    "binplaintexts = []\n",
    "for i in range(1000):\n",
    "    tmp = np.random.choice(['d','e','f','g','h','i','j','k','l','m','n','o','p','q','r','s'],size=(1,16),replace = True)[0]\n",
    "    bininput=[]\n",
    "    for i in tmp:\n",
    "        bininput.extend([int(a) for a in char2hex[i]])\n",
    "\n",
    "    binplaintexts.append(bininput)\n",
    "    binplaintexts.append(list(np.bitwise_xor(bininput,XOR_value)))\n",
    "\n",
    "plaintexts = []\n",
    "\n",
    "for i in range(len(binplaintexts)):\n",
    "    s = \"\"\n",
    "    for j in range(0,64,4):\n",
    "\n",
    "        s+=hex2char[''.join([str(a) for a in binplaintexts[i][j:j+4]])]\n",
    "\n",
    "    plaintexts+=[s]\n",
    "\n",
    "file = open(\"plaintexts1.txt\",\"w\")\n",
    "for plaintext in plaintexts:\n",
    "    file.write(plaintext+\"\\n\")\n",
    "file.close()\n",
    "\n"
   ]
  },
  {
   "cell_type": "code",
   "execution_count": 2,
   "id": "1683fe7c",
   "metadata": {
    "ExecuteTime": {
     "end_time": "2022-03-08T18:57:53.222069Z",
     "start_time": "2022-03-08T18:57:52.945808Z"
    }
   },
   "outputs": [],
   "source": [
    "# XOR value between pairs of plaintexts is  40 08 00 00 04 00 00 00\n",
    "XOR_value = list((bin(0x4008000004000000))[2:].zfill(64))\n",
    "XOR_value = [int(x) for x in XOR_value]\n",
    "binplaintexts = []\n",
    "for i in range(1000):\n",
    "    tmp = np.random.choice(['d','e','f','g','h','i','j','k','l','m','n','o','p','q','r','s'],size=(1,16),replace = True)[0]\n",
    "    bininput=[]\n",
    "    for i in tmp:\n",
    "        bininput.extend([int(a) for a in char2hex[i]])\n",
    "\n",
    "    binplaintexts.append(bininput)\n",
    "    binplaintexts.append(list(np.bitwise_xor(bininput,XOR_value)))\n",
    "\n",
    "plaintexts = []\n",
    "\n",
    "for i in range(len(binplaintexts)):\n",
    "    s = \"\"\n",
    "    for j in range(0,64,4):\n",
    "\n",
    "        s+=hex2char[''.join([str(a) for a in binplaintexts[i][j:j+4]])]\n",
    "    plaintexts+=[s]\n",
    "\n",
    "file = open(\"plaintexts2.txt\",\"w\")\n",
    "for plaintext in plaintexts:\n",
    "    file.write(plaintext+\"\\n\")\n",
    "file.close()\n",
    "\n"
   ]
  }
 ],
 "metadata": {
  "kernelspec": {
   "display_name": "Python 3",
   "language": "python",
   "name": "python3"
  },
  "language_info": {
   "codemirror_mode": {
    "name": "ipython",
    "version": 3
   },
   "file_extension": ".py",
   "mimetype": "text/x-python",
   "name": "python",
   "nbconvert_exporter": "python",
   "pygments_lexer": "ipython3",
   "version": "3.8.8"
  },
  "varInspector": {
   "cols": {
    "lenName": 16,
    "lenType": 16,
    "lenVar": 40
   },
   "kernels_config": {
    "python": {
     "delete_cmd_postfix": "",
     "delete_cmd_prefix": "del ",
     "library": "var_list.py",
     "varRefreshCmd": "print(var_dic_list())"
    },
    "r": {
     "delete_cmd_postfix": ") ",
     "delete_cmd_prefix": "rm(",
     "library": "var_list.r",
     "varRefreshCmd": "cat(var_dic_list()) "
    }
   },
   "types_to_exclude": [
    "module",
    "function",
    "builtin_function_or_method",
    "instance",
    "_Feature"
   ],
   "window_display": false
  }
 },
 "nbformat": 4,
 "nbformat_minor": 5
}
