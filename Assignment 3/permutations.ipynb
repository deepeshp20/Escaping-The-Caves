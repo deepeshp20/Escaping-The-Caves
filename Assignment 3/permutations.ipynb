{
 "cells": [
  {
   "cell_type": "code",
   "execution_count": 1,
   "id": "edc2a023",
   "metadata": {},
   "outputs": [],
   "source": [
    "from itertools import permutations "
   ]
  },
  {
   "cell_type": "code",
   "execution_count": 2,
   "id": "cc627662",
   "metadata": {},
   "outputs": [],
   "source": [
    "def decrypt(cipher, ciphertext):\n",
    "    return encrypt(inverse_key(cipher), ciphertext)\n",
    "\n",
    "def encrypt(cipher, plaintext):\n",
    "    plaintext = \"\".join(plaintext.split(\" \")).upper()\n",
    "    ciphertext = \"\"\n",
    "    for pad in range(0, len(plaintext)%len(cipher)*-1%len(cipher)):\n",
    "        plaintext += \"X\"\n",
    "    for offset in range(0, len(plaintext), len(cipher)):\n",
    "        for element in [a-1 for a in cipher]:\n",
    "            ciphertext += plaintext[offset+element]\n",
    "        ciphertext += \" \"\n",
    "    return ciphertext[:-1]\n",
    "\n",
    "def inverse_key(cipher):\n",
    "    inverse = []\n",
    "    for position in range(min(cipher),max(cipher)+1,1):\n",
    "        inverse.append(cipher.index(position)+1)\n",
    "    return inverse"
   ]
  },
  {
   "cell_type": "code",
   "execution_count": 26,
   "id": "ae9ca29b",
   "metadata": {},
   "outputs": [
    {
     "name": "stdout",
     "output_type": "stream",
     "text": [
      "QMNJV SANVW EWCFL CTVPR JTJTV VPLVL FVXJA VQILD HCXML NVCNA CYCLP AFCGY TVFVW FVWGQ YPPQQ PQCSY WSQRX QMNJV AFYCG VTLVH FCWTY LAEUQ FVXJA TKBVC QNSQS LHFAV AWNCC VEASF UQBQV QTCYL LRQRX XWACF YPSDC UQFAV RQCGE FQPYA TTRAC XWVTA AWWDD VEASF LCBQV DTRAW MVUPQ QUWXD ECGQC WTYQY AFLVL QSYQK LHQSN AFQVM LLHVQ PAWRN QGVFU SRECW AWYQP FNWGA WDGFX\n",
      "284\n",
      "(4, 5, 1, 3, 2)\n",
      "CEDAB\n",
      "NVJQM NWVSA CLFEW VRPCT JVTJT LLVVP XAJFV IDLVQ XLMHC CANNV CPLCY CYGAF FWVTV WQGFV PQQYP CYSPQ QXRWS NVJQM YGCAF LHVVT WYTFC EQULA XAJFV BCVTK SSQQN FVALH NCCAW AFSVE BVQUQ CLYQT QXRLR AFCXW SCDYP FVAUQ CEGRQ PAYFQ RCATT VATXW WDDAW AFSVE BVQLC RWADT UQPMV WDXQU GCQEC YYQWT LLVAF YKQQS QNSLH QMVAF HQVLL WNRPA VUFQG EWCSR YPQAW WAGFN GXFWD\n",
      "(4, 5, 3, 1, 2)\n",
      "DECAB\n",
      "JVNQM VWNSA FLCEW PRVCT TVJJT VLLVP JAXFV LDIVQ MLXHC NACNV LPCCY GYCAF VWFTV GQWFV QQPYP SYCPQ RXQWS JVNQM CGYAF VHLVT TYWFC UQELA JAXFV VCBTK QSSQN AVFLH CCNAW SFAVE QVBUQ YLCQT RXQLR CFAXW DCSYP AVFUQ GECRQ YAPFQ ACRTT TAVXW DDWAW SFAVE QVBLC AWRDT PQUMV XDWQU QCGEC QYYWT VLLAF QKYQS SNQLH VMQAF VQHLL RNWPA FUVQG CWESR QPYAW GAWFN FXGWD\n"
     ]
    }
   ],
   "source": [
    "p=permutations([1, 2, 3, 4, 5])\n",
    "k=[1, 2, 3, 4, 5]\n",
    "\n",
    "ciphertext =\"qmnjvsanvwewcflctvprjtjtvvplvlfvxjavqildhcxmlnvcnacyclpafcgytvfvwfvwgqyppqqpqcsywsqrxqmnjvafycgvtlvhfcwtylaeuqfvxjatkbvcqnsqslhfavawnccveasfuqbqvqtcyllrqrxxwacfypsdcuqfavrqcgefqpyattracxwvtaawwddveasflcbqvdtrawmvupqquwxdecgqcwtyqyaflvlqsyqklhqsnafqvmllhvqpawrnqgvfusrecwawyqpfnwgawdgf\"\n",
    "plaintext = decrypt(k, ciphertext)\n",
    "print(plaintext)\n",
    "print(len(ciphertext))\n",
    "a=\"abcde\"\n",
    "for x in p:\n",
    "    ccc=decrypt(x,a)\n",
    "    plaintext = decrypt(x, ciphertext)\n",
    "    if( plaintext[304]=='L' and plaintext[303]=='L' and plaintext[94]=='Q' and plaintext[301]=='Q' ):\n",
    "        print(x)\n",
    "        print(ccc)\n",
    "        print(plaintext)"
   ]
  },
  {
   "cell_type": "code",
   "execution_count": 19,
   "id": "bfc5998e",
   "metadata": {},
   "outputs": [],
   "source": [
    "\n"
   ]
  }
 ],
 "metadata": {
  "kernelspec": {
   "display_name": "Python 3",
   "language": "python",
   "name": "python3"
  },
  "language_info": {
   "codemirror_mode": {
    "name": "ipython",
    "version": 3
   },
   "file_extension": ".py",
   "mimetype": "text/x-python",
   "name": "python",
   "nbconvert_exporter": "python",
   "pygments_lexer": "ipython3",
   "version": "3.9.5"
  }
 },
 "nbformat": 4,
 "nbformat_minor": 5
}
